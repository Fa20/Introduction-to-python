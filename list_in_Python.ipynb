{
 "cells": [
  {
   "cell_type": "markdown",
   "metadata": {},
   "source": [
    "#List in python\n"
   ]
  },
  {
   "cell_type": "code",
   "execution_count": 1,
   "metadata": {},
   "outputs": [
    {
     "name": "stdout",
     "output_type": "stream",
     "text": [
      "Fa\n",
      "Ra\n",
      "Haya\n"
     ]
    }
   ],
   "source": [
    "names=['Fa', 'Ra','Re','Ha','Haya']#  great list with different names\n",
    "print(names[0])# print the first name\n",
    "print(names[1])# print the second th name\n",
    "print(names[-1])# you can also print the last name in the list by using this command"
   ]
  },
  {
   "cell_type": "code",
   "execution_count": 3,
   "metadata": {},
   "outputs": [
    {
     "name": "stdout",
     "output_type": "stream",
     "text": [
      "Hello Fa\n",
      "Hello Haya\n"
     ]
    }
   ],
   "source": [
    "print('Hello '+names[0])# to print message Hello for the first name in the list\n",
    "print('Hello '+names[-1])# to print message Hello for the last name in the list"
   ]
  },
  {
   "cell_type": "code",
   "execution_count": 4,
   "metadata": {},
   "outputs": [
    {
     "name": "stdout",
     "output_type": "stream",
     "text": [
      "['Fa', 'Ra', 'Re', 'Ha', 'Haya', 'Mona']\n"
     ]
    }
   ],
   "source": [
    "names.append('Mona')# to add an element to the list\n",
    "print(names)"
   ]
  },
  {
   "cell_type": "code",
   "execution_count": 37,
   "metadata": {},
   "outputs": [
    {
     "name": "stdout",
     "output_type": "stream",
     "text": [
      "['fish', 'meat', 'Eggs']\n"
     ]
    }
   ],
   "source": [
    "foods=[] # creat empty list\n",
    "foods.append('fish')# add the element fish to the list food\n",
    "foods.append('meat')# add another element  to the list food\n",
    "foods.append('Eggs')# add the element fish to the list food\n",
    "print(foods)"
   ]
  },
  {
   "cell_type": "code",
   "execution_count": 38,
   "metadata": {},
   "outputs": [
    {
     "name": "stdout",
     "output_type": "stream",
     "text": [
      "['Pasta', 'fish', 'meat', 'Eggs']\n",
      "['fish', 'meat', 'Eggs']\n"
     ]
    }
   ],
   "source": [
    "foods.insert(0,'Pasta') # to insert an elemnt in the frist postion of the list  \n",
    "print(foods)\n",
    "del foods[0] # to remove the first element from the list\n",
    "print(foods)"
   ]
  },
  {
   "cell_type": "code",
   "execution_count": 39,
   "metadata": {},
   "outputs": [
    {
     "name": "stdout",
     "output_type": "stream",
     "text": [
      "['fish', 'meat']\n",
      "['meat']\n"
     ]
    }
   ],
   "source": [
    "foods.pop() #pop used to remove the last element from a list \n",
    "print(foods)\n",
    "foods.pop(0)# it uesed also to remove an element at some position\n",
    "print(foods)"
   ]
  },
  {
   "cell_type": "code",
   "execution_count": 40,
   "metadata": {},
   "outputs": [],
   "source": [
    "foods.remove('meat') # if you do not know the position of the elemnt then you can use the remove function and the neame's lement to remove from a list"
   ]
  },
  {
   "cell_type": "code",
   "execution_count": 41,
   "metadata": {},
   "outputs": [
    {
     "name": "stdout",
     "output_type": "stream",
     "text": [
      "[]\n"
     ]
    }
   ],
   "source": [
    "print(foods)"
   ]
  },
  {
   "cell_type": "markdown",
   "metadata": {},
   "source": [
    "the difference between remove , del and pop:  \n",
    "\n",
    "   1- the function 'remove' removes the first matching value, not a specific index.\n",
    "   \n",
    "   2- the function  'pop' removes the item at a specific index and returns it.\n",
    "   \n",
    "   3- 'del' used to remove the item at a specific index.\n",
    "   "
   ]
  },
  {
   "cell_type": "code",
   "execution_count": 47,
   "metadata": {},
   "outputs": [
    {
     "name": "stdout",
     "output_type": "stream",
     "text": [
      "['Fa', 'Ha', 'Haya', 'Mona', 'Ra', 'Re']\n",
      "['Fa', 'Ha', 'Haya', 'Mona', 'Ra', 'Re']\n",
      "[0, 1, 3, 4, 5, 9, 88]\n",
      "[88, 9, 5, 4, 3, 1, 0]\n"
     ]
    },
    {
     "data": {
      "text/plain": [
       "6"
      ]
     },
     "execution_count": 47,
     "metadata": {},
     "output_type": "execute_result"
    }
   ],
   "source": [
    "print(names)# we back a gain to the list 'names'\n",
    "names.sort()# the fuction sort used to change the order of a list e.g. here order the list alphabetical\n",
    "print(names)\n",
    "numbers=[88,3,5,9,4,1,0] # creat a list of numbers and order it using sort function\n",
    "numbers.sort()\n",
    "print(numbers)\n",
    "numbers.reverse()# to reverse the order of the number -Order numbers down- \n",
    "print(numbers)\n",
    "len(names) #  find the length of a list by using len() function\n"
   ]
  },
  {
   "cell_type": "code",
   "execution_count": null,
   "metadata": {},
   "outputs": [],
   "source": [
    "the difference between remove , del and pop:\n",
    "   1- the function 'remove' removes the first matching value, not a specific index.\n",
    "   2- the function  'pop' removes the item at a specific index and returns it.\n",
    "   3- 'del' used to remove the item at a specific index."
   ]
  }
 ],
 "metadata": {
  "kernelspec": {
   "display_name": "Python 2",
   "language": "python",
   "name": "python2"
  },
  "language_info": {
   "codemirror_mode": {
    "name": "ipython",
    "version": 2
   },
   "file_extension": ".py",
   "mimetype": "text/x-python",
   "name": "python",
   "nbconvert_exporter": "python",
   "pygments_lexer": "ipython2",
   "version": "2.7.15"
  }
 },
 "nbformat": 4,
 "nbformat_minor": 2
}
